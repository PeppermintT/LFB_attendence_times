{
 "cells": [
  {
   "cell_type": "markdown",
   "metadata": {},
   "source": [
    "In this notebook I start with the complete merged dataset (data3) and compare data for the time period before 9 January 2014 with the time period since then. On 9 January 2014 ten of London Fire Stations closed. (Belsize, Bow, Clerkenwell, Downham, Kingsland, Knightsbridge, Silvertown, Westminster, Woolwich), leaving 102 stations serving London.\n",
    "The purpose of this exercise is simple - I want to compare whether the closure of 10 fire stations had an impact on LFB attendence time based on the entirety of the data I found on London data store.This is the full population of LFB incidents and includes fires, specials services (such as road traffic collisions) and false alarms."
   ]
  },
  {
   "cell_type": "markdown",
   "metadata": {},
   "source": [
    "Main findings:\n",
    " - This simple comparison shows that for all incidents the mean attendence team of pump 1 was 4.8 seconds slower post closure compared with pre closure. The median attendence time was 9 seconds slower pre and post closure.\n",
    " - This simple comparison masks the fact that LFB attend a wide range of incidents; the majority are not fires."
   ]
  },
  {
   "cell_type": "code",
   "execution_count": 1,
   "metadata": {},
   "outputs": [],
   "source": [
    "import pandas as pd\n",
    "pd.options.display.max_rows = 100  # To avoid displaying lots of truncated output\n",
    "import numpy as np\n",
    "from datetime import datetime"
   ]
  },
  {
   "cell_type": "code",
   "execution_count": 2,
   "metadata": {},
   "outputs": [],
   "source": [
    "data = pd.read_csv(\"C:/Users/sonja/Desktop/MSc/data/LFB/data3.csv\", low_memory = False)"
   ]
  },
  {
   "cell_type": "code",
   "execution_count": 3,
   "metadata": {},
   "outputs": [
    {
     "name": "stdout",
     "output_type": "stream",
     "text": [
      "Unnamed: 0                                                                    0\n",
      "IncidentNumber                                                        235138081\n",
      "DateOfCall                                                           2009-01-01\n",
      "CalYear                                                                    2009\n",
      "TimeOfCall                                                             00:00:37\n",
      "HourOfCall                                                                    0\n",
      "IncidentGroup                                                   Special Service\n",
      "StopCodeDescription                                             Special Service\n",
      "SpecialServiceType                                                          RTC\n",
      "PropertyCategory                                                   Road Vehicle\n",
      "PropertyType                                                               Car \n",
      "AddressQualifier                          In street close to gazetteer location\n",
      "Postcode_full                                                          SW11 4LB\n",
      "Postcode_district                                                          SW11\n",
      "IncGeo_BoroughCode                                                    E09000032\n",
      "IncGeo_BoroughName                                                   WANDSWORTH\n",
      "ProperCase                                                           Wandsworth\n",
      "IncGeo_WardCode                                                       E05000620\n",
      "IncGeo_WardName                                                      Queenstown\n",
      "IncGeo_WardNameNew                                                   Queenstown\n",
      "Easting_m                                                                528652\n",
      "Northing_m                                                               176830\n",
      "Easting_rounded                                                          528650\n",
      "Northing_rounded                                                         176850\n",
      "FRS                                                                      London\n",
      "IncidentStationGround                                                 Battersea\n",
      "FirstPumpArriving_AttendanceTime                                            NaN\n",
      "FirstPumpArriving_DeployedFromStation                                       NaN\n",
      "SecondPumpArriving_AttendanceTime                                           NaN\n",
      "SecondPumpArriving_DeployedFromStation                                      NaN\n",
      "NumStationsWithPumpsAttending                                                 2\n",
      "NumPumpsAttending                                                             2\n",
      "Name: 0, dtype: object\n"
     ]
    }
   ],
   "source": [
    "print(data.iloc[0])# let's look at first item. Various data fields in the full dataset.\n",
    "#Important to note null values in some cases. Will need to drop nulls."
   ]
  },
  {
   "cell_type": "markdown",
   "metadata": {},
   "source": [
    "Essentially I want to split the dataframe into two; the time period upto 8 January 2014 and the time period since then. Also, there are lots of variables that I don't need to answer the question I am interested in. Specially I need: Date of incident, Incident Group,FirstPumpArriving_AttendanceTime, FirstPumpArriving_DeployedFromStation,                \n",
    "SecondPumpArriving_AttendanceTime, SecondPumpArriving_DeployedFromStation.                                          "
   ]
  },
  {
   "cell_type": "code",
   "execution_count": 4,
   "metadata": {},
   "outputs": [],
   "source": [
    "#Selecting the relevant variables\n",
    "data = data [['DateOfCall','IncidentGroup', \n",
    "              'FirstPumpArriving_AttendanceTime', 'SecondPumpArriving_AttendanceTime']]\n",
    "\n",
    "#This shows a much smaller number of columns; also earlier data has null values. The \n",
    "#Incident recorded systems was upgraded in 2009 so data quality improves subsequent to that."
   ]
  },
  {
   "cell_type": "code",
   "execution_count": 5,
   "metadata": {},
   "outputs": [],
   "source": [
    "#Indexing by Data of call\n",
    "data = data.set_index(data['DateOfCall'])\n",
    "data = data.sort_index()"
   ]
  },
  {
   "cell_type": "code",
   "execution_count": 6,
   "metadata": {},
   "outputs": [
    {
     "data": {
      "text/plain": [
       "(590496, 4)"
      ]
     },
     "execution_count": 6,
     "metadata": {},
     "output_type": "execute_result"
    }
   ],
   "source": [
    "#Creating a pre_clusure and post closure dataframes\n",
    "pre_closure = data['2009-01-01':'2014-01-08']\n",
    "pre_closure.shape"
   ]
  },
  {
   "cell_type": "code",
   "execution_count": 7,
   "metadata": {},
   "outputs": [
    {
     "data": {
      "text/plain": [
       "(474368, 4)"
      ]
     },
     "execution_count": 7,
     "metadata": {},
     "output_type": "execute_result"
    }
   ],
   "source": [
    "post_closure = data ['2014-01-09':]\n",
    "post_closure.shape"
   ]
  },
  {
   "cell_type": "markdown",
   "metadata": {},
   "source": [
    "I have split the dataframe into to two: pre_closure and post_closure. Looking at the pre_closure dataset, the main column of interest is the FirstPumpAttendenceTime. Here we have 404, 916 non-null values (out of 590,496). In the post_closure dataframe there are 474 368 non null values."
   ]
  },
  {
   "cell_type": "code",
   "execution_count": 8,
   "metadata": {},
   "outputs": [
    {
     "name": "stdout",
     "output_type": "stream",
     "text": [
      "<class 'pandas.core.frame.DataFrame'>\n",
      "Index: 590496 entries, 2009-01-01 to 2014-01-08\n",
      "Data columns (total 4 columns):\n",
      "DateOfCall                           590496 non-null object\n",
      "IncidentGroup                        590496 non-null object\n",
      "FirstPumpArriving_AttendanceTime     404916 non-null float64\n",
      "SecondPumpArriving_AttendanceTime    3 non-null float64\n",
      "dtypes: float64(2), object(2)\n",
      "memory usage: 22.5+ MB\n"
     ]
    }
   ],
   "source": [
    "pre_closure.info()"
   ]
  },
  {
   "cell_type": "markdown",
   "metadata": {},
   "source": [
    "Here we also see that the data on second pump arriving attendance time is rather scarce - this is likely to be a data quality issue given LFB has a variety of attendence rules across the city and turning up with two pumps is common.\n"
   ]
  },
  {
   "cell_type": "code",
   "execution_count": 9,
   "metadata": {},
   "outputs": [
    {
     "name": "stdout",
     "output_type": "stream",
     "text": [
      "<class 'pandas.core.frame.DataFrame'>\n",
      "Index: 474368 entries, 2014-01-09 to 2018-08-31\n",
      "Data columns (total 4 columns):\n",
      "DateOfCall                           474368 non-null object\n",
      "IncidentGroup                        474366 non-null object\n",
      "FirstPumpArriving_AttendanceTime     438944 non-null float64\n",
      "SecondPumpArriving_AttendanceTime    64808 non-null float64\n",
      "dtypes: float64(2), object(2)\n",
      "memory usage: 18.1+ MB\n"
     ]
    }
   ],
   "source": [
    "post_closure.info()\n",
    "#Here we see a larger proportion of values for second pump attendence time. \n",
    "#However a comparison of before and after won't be possible."
   ]
  },
  {
   "cell_type": "code",
   "execution_count": 10,
   "metadata": {},
   "outputs": [
    {
     "data": {
      "text/html": [
       "<div>\n",
       "<style scoped>\n",
       "    .dataframe tbody tr th:only-of-type {\n",
       "        vertical-align: middle;\n",
       "    }\n",
       "\n",
       "    .dataframe tbody tr th {\n",
       "        vertical-align: top;\n",
       "    }\n",
       "\n",
       "    .dataframe thead th {\n",
       "        text-align: right;\n",
       "    }\n",
       "</style>\n",
       "<table border=\"1\" class=\"dataframe\">\n",
       "  <thead>\n",
       "    <tr style=\"text-align: right;\">\n",
       "      <th></th>\n",
       "      <th>FirstPumpArriving_AttendanceTime</th>\n",
       "      <th>SecondPumpArriving_AttendanceTime</th>\n",
       "    </tr>\n",
       "  </thead>\n",
       "  <tbody>\n",
       "    <tr>\n",
       "      <th>count</th>\n",
       "      <td>404916.000000</td>\n",
       "      <td>3.000000</td>\n",
       "    </tr>\n",
       "    <tr>\n",
       "      <th>mean</th>\n",
       "      <td>318.946144</td>\n",
       "      <td>428.000000</td>\n",
       "    </tr>\n",
       "    <tr>\n",
       "      <th>std</th>\n",
       "      <td>145.831160</td>\n",
       "      <td>190.197266</td>\n",
       "    </tr>\n",
       "    <tr>\n",
       "      <th>min</th>\n",
       "      <td>1.000000</td>\n",
       "      <td>243.000000</td>\n",
       "    </tr>\n",
       "    <tr>\n",
       "      <th>25%</th>\n",
       "      <td>227.000000</td>\n",
       "      <td>330.500000</td>\n",
       "    </tr>\n",
       "    <tr>\n",
       "      <th>50%</th>\n",
       "      <td>292.000000</td>\n",
       "      <td>418.000000</td>\n",
       "    </tr>\n",
       "    <tr>\n",
       "      <th>75%</th>\n",
       "      <td>378.000000</td>\n",
       "      <td>520.500000</td>\n",
       "    </tr>\n",
       "    <tr>\n",
       "      <th>max</th>\n",
       "      <td>1200.000000</td>\n",
       "      <td>623.000000</td>\n",
       "    </tr>\n",
       "  </tbody>\n",
       "</table>\n",
       "</div>"
      ],
      "text/plain": [
       "       FirstPumpArriving_AttendanceTime  SecondPumpArriving_AttendanceTime\n",
       "count                     404916.000000                           3.000000\n",
       "mean                         318.946144                         428.000000\n",
       "std                          145.831160                         190.197266\n",
       "min                            1.000000                         243.000000\n",
       "25%                          227.000000                         330.500000\n",
       "50%                          292.000000                         418.000000\n",
       "75%                          378.000000                         520.500000\n",
       "max                         1200.000000                         623.000000"
      ]
     },
     "execution_count": 10,
     "metadata": {},
     "output_type": "execute_result"
    }
   ],
   "source": [
    "pre_closure.describe()"
   ]
  },
  {
   "cell_type": "code",
   "execution_count": 11,
   "metadata": {},
   "outputs": [
    {
     "data": {
      "text/html": [
       "<div>\n",
       "<style scoped>\n",
       "    .dataframe tbody tr th:only-of-type {\n",
       "        vertical-align: middle;\n",
       "    }\n",
       "\n",
       "    .dataframe tbody tr th {\n",
       "        vertical-align: top;\n",
       "    }\n",
       "\n",
       "    .dataframe thead th {\n",
       "        text-align: right;\n",
       "    }\n",
       "</style>\n",
       "<table border=\"1\" class=\"dataframe\">\n",
       "  <thead>\n",
       "    <tr style=\"text-align: right;\">\n",
       "      <th></th>\n",
       "      <th>FirstPumpArriving_AttendanceTime</th>\n",
       "      <th>SecondPumpArriving_AttendanceTime</th>\n",
       "    </tr>\n",
       "  </thead>\n",
       "  <tbody>\n",
       "    <tr>\n",
       "      <th>count</th>\n",
       "      <td>438944.000000</td>\n",
       "      <td>64808.000000</td>\n",
       "    </tr>\n",
       "    <tr>\n",
       "      <th>mean</th>\n",
       "      <td>323.273292</td>\n",
       "      <td>394.386094</td>\n",
       "    </tr>\n",
       "    <tr>\n",
       "      <th>std</th>\n",
       "      <td>140.974650</td>\n",
       "      <td>149.913919</td>\n",
       "    </tr>\n",
       "    <tr>\n",
       "      <th>min</th>\n",
       "      <td>1.000000</td>\n",
       "      <td>1.000000</td>\n",
       "    </tr>\n",
       "    <tr>\n",
       "      <th>25%</th>\n",
       "      <td>235.000000</td>\n",
       "      <td>298.000000</td>\n",
       "    </tr>\n",
       "    <tr>\n",
       "      <th>50%</th>\n",
       "      <td>301.000000</td>\n",
       "      <td>369.000000</td>\n",
       "    </tr>\n",
       "    <tr>\n",
       "      <th>75%</th>\n",
       "      <td>384.000000</td>\n",
       "      <td>458.000000</td>\n",
       "    </tr>\n",
       "    <tr>\n",
       "      <th>max</th>\n",
       "      <td>1200.000000</td>\n",
       "      <td>1200.000000</td>\n",
       "    </tr>\n",
       "  </tbody>\n",
       "</table>\n",
       "</div>"
      ],
      "text/plain": [
       "       FirstPumpArriving_AttendanceTime  SecondPumpArriving_AttendanceTime\n",
       "count                     438944.000000                       64808.000000\n",
       "mean                         323.273292                         394.386094\n",
       "std                          140.974650                         149.913919\n",
       "min                            1.000000                           1.000000\n",
       "25%                          235.000000                         298.000000\n",
       "50%                          301.000000                         369.000000\n",
       "75%                          384.000000                         458.000000\n",
       "max                         1200.000000                        1200.000000"
      ]
     },
     "execution_count": 11,
     "metadata": {},
     "output_type": "execute_result"
    }
   ],
   "source": [
    "post_closure.describe()"
   ]
  },
  {
   "cell_type": "code",
   "execution_count": 12,
   "metadata": {},
   "outputs": [
    {
     "data": {
      "text/plain": [
       "292.0"
      ]
     },
     "execution_count": 12,
     "metadata": {},
     "output_type": "execute_result"
    }
   ],
   "source": [
    "pre_closure ['FirstPumpArriving_AttendanceTime'].median()"
   ]
  },
  {
   "cell_type": "code",
   "execution_count": 13,
   "metadata": {},
   "outputs": [
    {
     "data": {
      "text/plain": [
       "301.0"
      ]
     },
     "execution_count": 13,
     "metadata": {},
     "output_type": "execute_result"
    }
   ],
   "source": [
    "post_closure ['FirstPumpArriving_AttendanceTime'].median()"
   ]
  },
  {
   "cell_type": "markdown",
   "metadata": {},
   "source": [
    "This simple comparison shows that for all incidents the mean attendence team of pump 1 pre closure \n",
    "was 318.9 seconds compared with  323.7 seconds post closure - 4.8 seconds slower.\n",
    "The median attendence time pre closure was 292 seconds pre-closure and 301 seconds post closure - \n",
    "9 seconds slower."
   ]
  },
  {
   "cell_type": "code",
   "execution_count": null,
   "metadata": {},
   "outputs": [],
   "source": []
  }
 ],
 "metadata": {
  "kernelspec": {
   "display_name": "Python 3",
   "language": "python",
   "name": "python3"
  },
  "language_info": {
   "codemirror_mode": {
    "name": "ipython",
    "version": 3
   },
   "file_extension": ".py",
   "mimetype": "text/x-python",
   "name": "python",
   "nbconvert_exporter": "python",
   "pygments_lexer": "ipython3",
   "version": "3.6.5"
  }
 },
 "nbformat": 4,
 "nbformat_minor": 2
}
